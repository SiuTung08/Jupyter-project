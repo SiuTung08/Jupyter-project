{
 "cells": [
  {
   "cell_type": "code",
   "execution_count": 84,
   "id": "7751dc3c",
   "metadata": {},
   "outputs": [
    {
     "data": {
      "text/html": [
       "<div>\n",
       "<style scoped>\n",
       "    .dataframe tbody tr th:only-of-type {\n",
       "        vertical-align: middle;\n",
       "    }\n",
       "\n",
       "    .dataframe tbody tr th {\n",
       "        vertical-align: top;\n",
       "    }\n",
       "\n",
       "    .dataframe thead th {\n",
       "        text-align: right;\n",
       "    }\n",
       "</style>\n",
       "<table border=\"1\" class=\"dataframe\">\n",
       "  <thead>\n",
       "    <tr style=\"text-align: right;\">\n",
       "      <th></th>\n",
       "      <th>player_id</th>\n",
       "      <th>Session_Length</th>\n",
       "      <th>Session_Margin</th>\n",
       "    </tr>\n",
       "  </thead>\n",
       "  <tbody>\n",
       "    <tr>\n",
       "      <th>0</th>\n",
       "      <td>2257174</td>\n",
       "      <td>5065</td>\n",
       "      <td>0.091803</td>\n",
       "    </tr>\n",
       "    <tr>\n",
       "      <th>1</th>\n",
       "      <td>8044502</td>\n",
       "      <td>9443</td>\n",
       "      <td>0.127230</td>\n",
       "    </tr>\n",
       "    <tr>\n",
       "      <th>2</th>\n",
       "      <td>21364096</td>\n",
       "      <td>11</td>\n",
       "      <td>0.449765</td>\n",
       "    </tr>\n",
       "    <tr>\n",
       "      <th>3</th>\n",
       "      <td>160318098</td>\n",
       "      <td>9750</td>\n",
       "      <td>0.063731</td>\n",
       "    </tr>\n",
       "    <tr>\n",
       "      <th>4</th>\n",
       "      <td>185281129</td>\n",
       "      <td>9925</td>\n",
       "      <td>0.134167</td>\n",
       "    </tr>\n",
       "    <tr>\n",
       "      <th>...</th>\n",
       "      <td>...</td>\n",
       "      <td>...</td>\n",
       "      <td>...</td>\n",
       "    </tr>\n",
       "    <tr>\n",
       "      <th>2368</th>\n",
       "      <td>559902114</td>\n",
       "      <td>244</td>\n",
       "      <td>0.144865</td>\n",
       "    </tr>\n",
       "    <tr>\n",
       "      <th>2369</th>\n",
       "      <td>559906318</td>\n",
       "      <td>554</td>\n",
       "      <td>0.292021</td>\n",
       "    </tr>\n",
       "    <tr>\n",
       "      <th>2370</th>\n",
       "      <td>559910617</td>\n",
       "      <td>337</td>\n",
       "      <td>-0.004728</td>\n",
       "    </tr>\n",
       "    <tr>\n",
       "      <th>2371</th>\n",
       "      <td>559910863</td>\n",
       "      <td>133</td>\n",
       "      <td>0.114085</td>\n",
       "    </tr>\n",
       "    <tr>\n",
       "      <th>2372</th>\n",
       "      <td>559915399</td>\n",
       "      <td>15</td>\n",
       "      <td>-0.159125</td>\n",
       "    </tr>\n",
       "  </tbody>\n",
       "</table>\n",
       "<p>2373 rows × 3 columns</p>\n",
       "</div>"
      ],
      "text/plain": [
       "      player_id  Session_Length  Session_Margin\n",
       "0       2257174            5065        0.091803\n",
       "1       8044502            9443        0.127230\n",
       "2      21364096              11        0.449765\n",
       "3     160318098            9750        0.063731\n",
       "4     185281129            9925        0.134167\n",
       "...         ...             ...             ...\n",
       "2368  559902114             244        0.144865\n",
       "2369  559906318             554        0.292021\n",
       "2370  559910617             337       -0.004728\n",
       "2371  559910863             133        0.114085\n",
       "2372  559915399              15       -0.159125\n",
       "\n",
       "[2373 rows x 3 columns]"
      ]
     },
     "execution_count": 84,
     "metadata": {},
     "output_type": "execute_result"
    }
   ],
   "source": [
    "import pandas as pd\n",
    "import sqlalchemy as sal\n",
    "\n",
    "engine = sal.create_engine(\n",
    "    'mssql+pyodbc://'\n",
    "    '@./Entain?' \n",
    "    'driver=ODBC+Driver+17+for+SQL+Server'\n",
    "    )\n",
    "df = pd.read_sql_query(\"SELECT * FROM [Entain].[dbo].[session_aggregation_task_python]\",engine)\n",
    "\n",
    "df\n"
   ]
  },
  {
   "cell_type": "code",
   "execution_count": 85,
   "id": "4ea54d07",
   "metadata": {},
   "outputs": [
    {
     "data": {
      "text/plain": [
       "Session_Length\n",
       "(-1, 10]          0.707666\n",
       "(10, 20]          0.394561\n",
       "(20, 30]          0.348493\n",
       "(30, 40]         -1.155641\n",
       "(40, 50]          0.327962\n",
       "                    ...   \n",
       "(10030, 10040]   -0.046913\n",
       "(10040, 10050]    0.032851\n",
       "(10050, 10060]   -0.013243\n",
       "(10060, 10070]    0.038050\n",
       "(10070, 10080]    0.034788\n",
       "Name: Session_Margin, Length: 1008, dtype: float64"
      ]
     },
     "execution_count": 85,
     "metadata": {},
     "output_type": "execute_result"
    }
   ],
   "source": [
    "import math\n",
    "\n",
    "increment = 10\n",
    "lists = list(range(0,df.Session_Length.max()+increment,increment))\n",
    "lists[0] = -1\n",
    "df.Session_Margin.groupby(pd.cut(df.Session_Length, lists)).mean()\n",
    "\n",
    "##for n in lists:\n",
    "##  print(n)"
   ]
  },
  {
   "cell_type": "code",
   "execution_count": 86,
   "id": "814abc52",
   "metadata": {
    "scrolled": true
   },
   "outputs": [],
   "source": [
    "\n",
    "labels = ['{}-{}'.format(i + 1, j) for i, j in zip(lists[:-1], lists[1:])]\n",
    "##print (labels)\n",
    "df2 = df.Session_Margin.groupby(pd.cut(df.Session_Length, lists,labels =labels)).mean()\n",
    "df2.to_csv('Entain_session_aggregation_task.csv')\n"
   ]
  },
  {
   "cell_type": "code",
   "execution_count": null,
   "id": "4c2a2ac2",
   "metadata": {},
   "outputs": [],
   "source": []
  }
 ],
 "metadata": {
  "kernelspec": {
   "display_name": "Python 3 (ipykernel)",
   "language": "python",
   "name": "python3"
  },
  "language_info": {
   "codemirror_mode": {
    "name": "ipython",
    "version": 3
   },
   "file_extension": ".py",
   "mimetype": "text/x-python",
   "name": "python",
   "nbconvert_exporter": "python",
   "pygments_lexer": "ipython3",
   "version": "3.9.13"
  }
 },
 "nbformat": 4,
 "nbformat_minor": 5
}
